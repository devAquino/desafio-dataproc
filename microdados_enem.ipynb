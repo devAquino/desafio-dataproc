{
  "nbformat": 4,
  "nbformat_minor": 0,
  "metadata": {
    "colab": {
      "name": "microdados_enem.ipynb",
      "provenance": [],
      "collapsed_sections": [
        "6SMATyfs-Fp8"
      ],
      "toc_visible": true
    },
    "kernelspec": {
      "display_name": "Python 3",
      "name": "python3"
    }
  },
  "cells": [
    {
      "cell_type": "markdown",
      "metadata": {
        "id": "6SMATyfs-Fp8"
      },
      "source": [
        "# Análise de dados do enem 2016"
      ]
    },
    {
      "cell_type": "markdown",
      "metadata": {
        "id": "BB8ejGfIfKIT"
      },
      "source": [
        "*Instalando a biblioteca pandera*"
      ]
    },
    {
      "cell_type": "code",
      "metadata": {
        "id": "3VTDMg8Ge-mo"
      },
      "source": [
        "#pip install pandera"
      ],
      "execution_count": null,
      "outputs": []
    },
    {
      "cell_type": "code",
      "metadata": {
        "id": "SSD4hMeXrZpT"
      },
      "source": [
        "import pandas as pd\n",
        "import pandera as pa"
      ],
      "execution_count": null,
      "outputs": []
    },
    {
      "cell_type": "code",
      "metadata": {
        "id": "uOWjIYbyrqm2"
      },
      "source": [
        "df = pd.read_csv('/content/drive/MyDrive/Colab Notebooks/train.csv')"
      ],
      "execution_count": null,
      "outputs": []
    },
    {
      "cell_type": "markdown",
      "metadata": {
        "id": "90-kF7iT-SP8"
      },
      "source": [
        "*visualizando as colunas do dataframe*"
      ]
    },
    {
      "cell_type": "code",
      "metadata": {
        "colab": {
          "base_uri": "https://localhost:8080/"
        },
        "id": "LL4TUlje-XuV",
        "outputId": "d52d72e2-ec58-4b5e-8482-a664191a89d5"
      },
      "source": [
        "df.columns.values"
      ],
      "execution_count": null,
      "outputs": [
        {
          "output_type": "execute_result",
          "data": {
            "text/plain": [
              "array(['Unnamed: 0', 'NU_INSCRICAO', 'NU_ANO', 'CO_MUNICIPIO_RESIDENCIA',\n",
              "       'NO_MUNICIPIO_RESIDENCIA', 'CO_UF_RESIDENCIA', 'SG_UF_RESIDENCIA',\n",
              "       'NU_IDADE', 'TP_SEXO', 'TP_ESTADO_CIVIL', 'TP_COR_RACA',\n",
              "       'TP_NACIONALIDADE', 'CO_MUNICIPIO_NASCIMENTO',\n",
              "       'NO_MUNICIPIO_NASCIMENTO', 'CO_UF_NASCIMENTO', 'SG_UF_NASCIMENTO',\n",
              "       'TP_ST_CONCLUSAO', 'TP_ANO_CONCLUIU', 'TP_ESCOLA', 'TP_ENSINO',\n",
              "       'IN_TREINEIRO', 'CO_ESCOLA', 'CO_MUNICIPIO_ESC',\n",
              "       'NO_MUNICIPIO_ESC', 'CO_UF_ESC', 'SG_UF_ESC',\n",
              "       'TP_DEPENDENCIA_ADM_ESC', 'TP_LOCALIZACAO_ESC', 'TP_SIT_FUNC_ESC',\n",
              "       'IN_BAIXA_VISAO', 'IN_CEGUEIRA', 'IN_SURDEZ',\n",
              "       'IN_DEFICIENCIA_AUDITIVA', 'IN_SURDO_CEGUEIRA',\n",
              "       'IN_DEFICIENCIA_FISICA', 'IN_DEFICIENCIA_MENTAL',\n",
              "       'IN_DEFICIT_ATENCAO', 'IN_DISLEXIA', 'IN_DISCALCULIA',\n",
              "       'IN_AUTISMO', 'IN_VISAO_MONOCULAR', 'IN_OUTRA_DEF', 'IN_SABATISTA',\n",
              "       'IN_GESTANTE', 'IN_LACTANTE', 'IN_IDOSO',\n",
              "       'IN_ESTUDA_CLASSE_HOSPITALAR', 'IN_SEM_RECURSO', 'IN_BRAILLE',\n",
              "       'IN_AMPLIADA_24', 'IN_AMPLIADA_18', 'IN_LEDOR', 'IN_ACESSO',\n",
              "       'IN_TRANSCRICAO', 'IN_LIBRAS', 'IN_LEITURA_LABIAL',\n",
              "       'IN_MESA_CADEIRA_RODAS', 'IN_MESA_CADEIRA_SEPARADA',\n",
              "       'IN_APOIO_PERNA', 'IN_GUIA_INTERPRETE', 'IN_MACA', 'IN_COMPUTADOR',\n",
              "       'IN_CADEIRA_ESPECIAL', 'IN_CADEIRA_CANHOTO',\n",
              "       'IN_CADEIRA_ACOLCHOADA', 'IN_PROVA_DEITADO', 'IN_MOBILIARIO_OBESO',\n",
              "       'IN_LAMINA_OVERLAY', 'IN_PROTETOR_AURICULAR', 'IN_MEDIDOR_GLICOSE',\n",
              "       'IN_MAQUINA_BRAILE', 'IN_SOROBAN', 'IN_MARCA_PASSO', 'IN_SONDA',\n",
              "       'IN_MEDICAMENTOS', 'IN_SALA_INDIVIDUAL', 'IN_SALA_ESPECIAL',\n",
              "       'IN_SALA_ACOMPANHANTE', 'IN_MOBILIARIO_ESPECIFICO',\n",
              "       'IN_MATERIAL_ESPECIFICO', 'IN_NOME_SOCIAL', 'IN_CERTIFICADO',\n",
              "       'NO_ENTIDADE_CERTIFICACAO', 'CO_UF_ENTIDADE_CERTIFICACAO',\n",
              "       'SG_UF_ENTIDADE_CERTIFICACAO', 'CO_MUNICIPIO_PROVA',\n",
              "       'NO_MUNICIPIO_PROVA', 'CO_UF_PROVA', 'SG_UF_PROVA',\n",
              "       'TP_PRESENCA_CN', 'TP_PRESENCA_CH', 'TP_PRESENCA_LC',\n",
              "       'TP_PRESENCA_MT', 'CO_PROVA_CN', 'CO_PROVA_CH', 'CO_PROVA_LC',\n",
              "       'CO_PROVA_MT', 'NU_NOTA_CN', 'NU_NOTA_CH', 'NU_NOTA_LC',\n",
              "       'NU_NOTA_MT', 'TX_RESPOSTAS_CN', 'TX_RESPOSTAS_CH',\n",
              "       'TX_RESPOSTAS_LC', 'TX_RESPOSTAS_MT', 'TP_LINGUA',\n",
              "       'TX_GABARITO_CN', 'TX_GABARITO_CH', 'TX_GABARITO_LC',\n",
              "       'TX_GABARITO_MT', 'TP_STATUS_REDACAO', 'NU_NOTA_COMP1',\n",
              "       'NU_NOTA_COMP2', 'NU_NOTA_COMP3', 'NU_NOTA_COMP4', 'NU_NOTA_COMP5',\n",
              "       'NU_NOTA_REDACAO', 'Q001', 'Q002', 'Q003', 'Q004', 'Q005', 'Q006',\n",
              "       'Q007', 'Q008', 'Q009', 'Q010', 'Q011', 'Q012', 'Q013', 'Q014',\n",
              "       'Q015', 'Q016', 'Q017', 'Q018', 'Q019', 'Q020', 'Q021', 'Q022',\n",
              "       'Q023', 'Q024', 'Q025', 'Q026', 'Q027', 'Q028', 'Q029', 'Q030',\n",
              "       'Q031', 'Q032', 'Q033', 'Q034', 'Q035', 'Q036', 'Q037', 'Q038',\n",
              "       'Q039', 'Q040', 'Q041', 'Q042', 'Q043', 'Q044', 'Q045', 'Q046',\n",
              "       'Q047', 'Q048', 'Q049', 'Q050'], dtype=object)"
            ]
          },
          "metadata": {
            "tags": []
          },
          "execution_count": 231
        }
      ]
    },
    {
      "cell_type": "markdown",
      "metadata": {
        "id": "_XUOqygt-lkU"
      },
      "source": [
        "*Como não pretendo trabalhar com todos as colunas, farei uma seleção das colunas de meu interesse*"
      ]
    },
    {
      "cell_type": "code",
      "metadata": {
        "id": "WPwdX9XKixA5"
      },
      "source": [
        "colunas_selecionadas = ['NU_INSCRICAO', 'NU_ANO',\n",
        "       'NO_MUNICIPIO_RESIDENCIA','SG_UF_RESIDENCIA',\n",
        "       'NU_IDADE', 'TP_SEXO', 'TP_ESTADO_CIVIL', 'TP_COR_RACA',\n",
        "       'IN_GESTANTE','NO_MUNICIPIO_PROVA', 'SG_UF_PROVA',\n",
        "       'NU_NOTA_CN', 'NU_NOTA_CH', 'NU_NOTA_LC',\n",
        "       'NU_NOTA_MT', 'NU_NOTA_REDACAO', 'Q001', 'Q002']"
      ],
      "execution_count": null,
      "outputs": []
    },
    {
      "cell_type": "markdown",
      "metadata": {
        "id": "74yq9TvY-zFe"
      },
      "source": [
        "*Criando um dataframe com as colunas selecionadas*"
      ]
    },
    {
      "cell_type": "code",
      "metadata": {
        "id": "NNiffjiOtEab"
      },
      "source": [
        "df_enem = df.filter(items=colunas_selecionadas)"
      ],
      "execution_count": null,
      "outputs": []
    },
    {
      "cell_type": "markdown",
      "metadata": {
        "id": "U2dPFvVH-5GS"
      },
      "source": [
        "*Renomeando as colunas para melhorar a legibilidade*"
      ]
    },
    {
      "cell_type": "code",
      "metadata": {
        "id": "ztCIaLTjuEv_"
      },
      "source": [
        "df_enem.rename(columns={'NU_INSCRICAO':'inscricao', 'NU_ANO':'ano',\n",
        "       'NO_MUNICIPIO_RESIDENCIA':'municipio_residencia','SG_UF_RESIDENCIA':'uf_residencia',\n",
        "       'NU_IDADE':'idade', 'TP_SEXO':'sexo', 'TP_ESTADO_CIVIL':'estado_civil', 'TP_COR_RACA':'raca',\n",
        "       'IN_GESTANTE':'gestante',\n",
        "       'NO_MUNICIPIO_PROVA':'municipio_prova', 'SG_UF_PROVA':'uf_prova',\n",
        "       'NU_NOTA_CN':'nota_ciencias_da_naturaza', 'NU_NOTA_CH':'nota_ciencias_humanas', 'NU_NOTA_LC':'nota_linguagens_e_codigos',\n",
        "       'NU_NOTA_MT':'nota_matematica','NU_NOTA_REDACAO':'nota_redacao', 'Q001':'questionario_pai', \n",
        "       'Q002':'questionario_mae'}, inplace=True)"
      ],
      "execution_count": null,
      "outputs": []
    },
    {
      "cell_type": "markdown",
      "metadata": {
        "id": "Jls1iH3pA8Qd"
      },
      "source": [
        "*Visualizando o tipo de cada coluna*"
      ]
    },
    {
      "cell_type": "code",
      "metadata": {
        "colab": {
          "base_uri": "https://localhost:8080/"
        },
        "id": "RuH_jqh2A5yP",
        "outputId": "e903cd4a-1ad6-4837-d19a-4f04e4a614e5"
      },
      "source": [
        "df_enem.dtypes"
      ],
      "execution_count": null,
      "outputs": [
        {
          "output_type": "execute_result",
          "data": {
            "text/plain": [
              "inscricao                     object\n",
              "ano                            int64\n",
              "municipio_residencia          object\n",
              "uf_residencia                 object\n",
              "idade                          int64\n",
              "sexo                          object\n",
              "estado_civil                 float64\n",
              "raca                           int64\n",
              "gestante                       int64\n",
              "municipio_prova               object\n",
              "uf_prova                      object\n",
              "nota_ciencias_da_naturaza    float64\n",
              "nota_ciencias_humanas        float64\n",
              "nota_linguagens_e_codigos    float64\n",
              "nota_matematica              float64\n",
              "nota_redacao                 float64\n",
              "questionario_pai              object\n",
              "questionario_mae              object\n",
              "dtype: object"
            ]
          },
          "metadata": {
            "tags": []
          },
          "execution_count": 235
        }
      ]
    },
    {
      "cell_type": "markdown",
      "metadata": {
        "id": "A8t1mQr7u_Uh"
      },
      "source": [
        "*Podemos observar que a coluna raca, gestante e estado_civil tem seus valores representado por numeros inteiro, inteiro e float respectivamente. Se quisermos conferir o que cada um representa teriamos que analizamos o dicionário de dados. Então vou criar uma melhor representação desses valores e das outras colunas semelhantes como questionario_pai e questionario_mae*"
      ]
    },
    {
      "cell_type": "code",
      "metadata": {
        "colab": {
          "base_uri": "https://localhost:8080/",
          "height": 222
        },
        "id": "ZoBbH_2HuIPk",
        "outputId": "0aed7458-0271-4b18-e953-357b2c2939ac"
      },
      "source": [
        "df_enem.head(5)"
      ],
      "execution_count": null,
      "outputs": [
        {
          "output_type": "execute_result",
          "data": {
            "text/html": [
              "<div>\n",
              "<style scoped>\n",
              "    .dataframe tbody tr th:only-of-type {\n",
              "        vertical-align: middle;\n",
              "    }\n",
              "\n",
              "    .dataframe tbody tr th {\n",
              "        vertical-align: top;\n",
              "    }\n",
              "\n",
              "    .dataframe thead th {\n",
              "        text-align: right;\n",
              "    }\n",
              "</style>\n",
              "<table border=\"1\" class=\"dataframe\">\n",
              "  <thead>\n",
              "    <tr style=\"text-align: right;\">\n",
              "      <th></th>\n",
              "      <th>inscricao</th>\n",
              "      <th>ano</th>\n",
              "      <th>municipio_residencia</th>\n",
              "      <th>uf_residencia</th>\n",
              "      <th>idade</th>\n",
              "      <th>sexo</th>\n",
              "      <th>estado_civil</th>\n",
              "      <th>raca</th>\n",
              "      <th>gestante</th>\n",
              "      <th>municipio_prova</th>\n",
              "      <th>uf_prova</th>\n",
              "      <th>nota_ciencias_da_naturaza</th>\n",
              "      <th>nota_ciencias_humanas</th>\n",
              "      <th>nota_linguagens_e_codigos</th>\n",
              "      <th>nota_matematica</th>\n",
              "      <th>nota_redacao</th>\n",
              "      <th>questionario_pai</th>\n",
              "      <th>questionario_mae</th>\n",
              "    </tr>\n",
              "  </thead>\n",
              "  <tbody>\n",
              "    <tr>\n",
              "      <th>0</th>\n",
              "      <td>ed50e8aaa58e7a806c337585efee9ca41f1eb1ad</td>\n",
              "      <td>2016</td>\n",
              "      <td>Porto Alegre</td>\n",
              "      <td>RS</td>\n",
              "      <td>24</td>\n",
              "      <td>M</td>\n",
              "      <td>0.0</td>\n",
              "      <td>1</td>\n",
              "      <td>0</td>\n",
              "      <td>Porto Alegre</td>\n",
              "      <td>RS</td>\n",
              "      <td>436.3</td>\n",
              "      <td>495.4</td>\n",
              "      <td>581.2</td>\n",
              "      <td>399.4</td>\n",
              "      <td>520.0</td>\n",
              "      <td>D</td>\n",
              "      <td>D</td>\n",
              "    </tr>\n",
              "    <tr>\n",
              "      <th>1</th>\n",
              "      <td>2c3acac4b33ec2b195d77e7c04a2d75727fad723</td>\n",
              "      <td>2016</td>\n",
              "      <td>Granja</td>\n",
              "      <td>CE</td>\n",
              "      <td>17</td>\n",
              "      <td>F</td>\n",
              "      <td>0.0</td>\n",
              "      <td>3</td>\n",
              "      <td>0</td>\n",
              "      <td>Granja</td>\n",
              "      <td>CE</td>\n",
              "      <td>474.5</td>\n",
              "      <td>544.1</td>\n",
              "      <td>599.0</td>\n",
              "      <td>459.8</td>\n",
              "      <td>580.0</td>\n",
              "      <td>A</td>\n",
              "      <td>A</td>\n",
              "    </tr>\n",
              "    <tr>\n",
              "      <th>2</th>\n",
              "      <td>f4545f8ccb9ff5c8aad7d32951b3f251a26e6568</td>\n",
              "      <td>2016</td>\n",
              "      <td>Fortaleza</td>\n",
              "      <td>CE</td>\n",
              "      <td>21</td>\n",
              "      <td>F</td>\n",
              "      <td>0.0</td>\n",
              "      <td>3</td>\n",
              "      <td>0</td>\n",
              "      <td>Fortaleza</td>\n",
              "      <td>CE</td>\n",
              "      <td>NaN</td>\n",
              "      <td>NaN</td>\n",
              "      <td>NaN</td>\n",
              "      <td>NaN</td>\n",
              "      <td>NaN</td>\n",
              "      <td>D</td>\n",
              "      <td>D</td>\n",
              "    </tr>\n",
              "    <tr>\n",
              "      <th>3</th>\n",
              "      <td>3d6ec248fef899c414e77f82d5c6d2bffbeaf7fe</td>\n",
              "      <td>2016</td>\n",
              "      <td>Rio de Janeiro</td>\n",
              "      <td>RJ</td>\n",
              "      <td>25</td>\n",
              "      <td>F</td>\n",
              "      <td>0.0</td>\n",
              "      <td>0</td>\n",
              "      <td>0</td>\n",
              "      <td>Rio de Janeiro</td>\n",
              "      <td>RJ</td>\n",
              "      <td>NaN</td>\n",
              "      <td>NaN</td>\n",
              "      <td>NaN</td>\n",
              "      <td>NaN</td>\n",
              "      <td>NaN</td>\n",
              "      <td>H</td>\n",
              "      <td>E</td>\n",
              "    </tr>\n",
              "    <tr>\n",
              "      <th>4</th>\n",
              "      <td>bf896ac8d3ecadd6dba1dfbf50110afcbf5d3268</td>\n",
              "      <td>2016</td>\n",
              "      <td>Manaus</td>\n",
              "      <td>AM</td>\n",
              "      <td>28</td>\n",
              "      <td>M</td>\n",
              "      <td>0.0</td>\n",
              "      <td>2</td>\n",
              "      <td>0</td>\n",
              "      <td>Manaus</td>\n",
              "      <td>AM</td>\n",
              "      <td>NaN</td>\n",
              "      <td>NaN</td>\n",
              "      <td>NaN</td>\n",
              "      <td>NaN</td>\n",
              "      <td>NaN</td>\n",
              "      <td>E</td>\n",
              "      <td>D</td>\n",
              "    </tr>\n",
              "  </tbody>\n",
              "</table>\n",
              "</div>"
            ],
            "text/plain": [
              "                                  inscricao  ...  questionario_mae\n",
              "0  ed50e8aaa58e7a806c337585efee9ca41f1eb1ad  ...                 D\n",
              "1  2c3acac4b33ec2b195d77e7c04a2d75727fad723  ...                 A\n",
              "2  f4545f8ccb9ff5c8aad7d32951b3f251a26e6568  ...                 D\n",
              "3  3d6ec248fef899c414e77f82d5c6d2bffbeaf7fe  ...                 E\n",
              "4  bf896ac8d3ecadd6dba1dfbf50110afcbf5d3268  ...                 D\n",
              "\n",
              "[5 rows x 18 columns]"
            ]
          },
          "metadata": {
            "tags": []
          },
          "execution_count": 236
        }
      ]
    },
    {
      "cell_type": "markdown",
      "metadata": {
        "id": "joyZZY1YvhMV"
      },
      "source": [
        "*Dicionário para alterar o valor da coluna raca*"
      ]
    },
    {
      "cell_type": "code",
      "metadata": {
        "id": "sJU9L9Tf_xm2"
      },
      "source": [
        "dict_raca = {\n",
        "    0:'Não declarado',\n",
        "    1:'Branca',\n",
        "    2:'Preta',\n",
        "    3:'Parda',\n",
        "    4:'Amarela',\n",
        "    5:'Indígina'\n",
        "}"
      ],
      "execution_count": null,
      "outputs": []
    },
    {
      "cell_type": "markdown",
      "metadata": {
        "id": "kzGO3wRpRQr5"
      },
      "source": [
        "*Alterando os valores da coluna raca*"
      ]
    },
    {
      "cell_type": "code",
      "metadata": {
        "id": "2QOF3XbmtuQ9"
      },
      "source": [
        "df_enem.raca = [dict_raca[rc] for rc in df_enem.raca]"
      ],
      "execution_count": null,
      "outputs": []
    },
    {
      "cell_type": "markdown",
      "metadata": {
        "id": "clPBDSLyREll"
      },
      "source": [
        "*Dicionário para alterar o valor da coluna gestante*"
      ]
    },
    {
      "cell_type": "code",
      "metadata": {
        "id": "S1PY8AFBPXbe"
      },
      "source": [
        "dict_gestante = {\n",
        "    1:'Sim',\n",
        "    0:'Não',\n",
        "}"
      ],
      "execution_count": null,
      "outputs": []
    },
    {
      "cell_type": "markdown",
      "metadata": {
        "id": "m3CN0v6aRM6u"
      },
      "source": [
        "*Alterando os valores da coluna gestante*"
      ]
    },
    {
      "cell_type": "code",
      "metadata": {
        "id": "KdIikA_bP80O"
      },
      "source": [
        "df_enem.gestante = [dict_gestante[gest] for gest in df_enem.gestante]"
      ],
      "execution_count": null,
      "outputs": []
    },
    {
      "cell_type": "markdown",
      "metadata": {
        "id": "cKJoTURgMqu7"
      },
      "source": [
        "Criando dicionário para alterar os valores da coluna estado_civil"
      ]
    },
    {
      "cell_type": "code",
      "metadata": {
        "id": "cEclknwYMTvw"
      },
      "source": [
        "dict_estado_civil = {\n",
        "    0.0:'Não informado',\n",
        "    1.0:'Solteiro(a)',\n",
        "    2.0:'Casado(a)/Mora com companheiro(a)',\n",
        "    3.0:'Divorciado(a)/Desquitado(a)/Separado(a)',\n",
        "    4.0:'Viúvo(a)',\n",
        "}"
      ],
      "execution_count": null,
      "outputs": []
    },
    {
      "cell_type": "markdown",
      "metadata": {
        "id": "IzrUODWdYOmf"
      },
      "source": [
        "*Preenchendo os valores NAN da coluna estado_civil com 0 para que a iteração seja possivel*"
      ]
    },
    {
      "cell_type": "code",
      "metadata": {
        "id": "ky-gcsZxWvuS"
      },
      "source": [
        "df_enem.estado_civil.fillna(0,inplace=True)"
      ],
      "execution_count": null,
      "outputs": []
    },
    {
      "cell_type": "markdown",
      "metadata": {
        "id": "JMFa71f9YeQ2"
      },
      "source": [
        "*Alterando os valores da coluna estado_civil*"
      ]
    },
    {
      "cell_type": "code",
      "metadata": {
        "id": "9T4kIA7_MwC9"
      },
      "source": [
        "df_enem.estado_civil = [dict_estado_civil[estado] for estado in df_enem.estado_civil]"
      ],
      "execution_count": null,
      "outputs": []
    },
    {
      "cell_type": "markdown",
      "metadata": {
        "id": "ocgD9ii8iPYo"
      },
      "source": [
        "*Validando as colunas*"
      ]
    },
    {
      "cell_type": "code",
      "metadata": {
        "id": "DPhctiuWgWfl"
      },
      "source": [
        "schema = pa.DataFrameSchema(\n",
        "    columns = {\n",
        "        'inscricao': pa.Column(pa.String),\n",
        "        'ano': pa.Column(pa.Int),\n",
        "        'municipio_residencia':pa.Column(pa.String),\n",
        "        'uf_residencia': pa.Column(pa.String),\n",
        "        'idade': pa.Column(pa.Int),                     \n",
        "        'sexo':pa.Column(pa.String),            \n",
        "        'estado_civil':pa.Column(pa.String),              \n",
        "        'raca':pa.Column(pa.String),                      \n",
        "        'gestante':pa.Column(pa.String),                  \n",
        "        'municipio_prova':pa.Column(pa.String),           \n",
        "        'uf_prova':pa.Column(pa.String),                  \n",
        "        'nota_ciencias_da_naturaza':pa.Column(pa.String), \n",
        "        'nota_ciencias_humanas':pa.Column(pa.String),      \n",
        "        'nota_linguagens_e_codigos':pa.Column(pa.String),  \n",
        "        'nota_matematica':pa.Column(pa.String),            \n",
        "        'nota_redacao':pa.Column(pa.String),               \n",
        "        'questionario_pai':pa.Column(pa.String),           \n",
        "        'questionario_mae':pa.Column(pa.String),           \n",
        "\n",
        "    }\n",
        ")"
      ],
      "execution_count": null,
      "outputs": []
    },
    {
      "cell_type": "markdown",
      "metadata": {
        "id": "vVcCaD5x_FhK"
      },
      "source": [
        "*Criando um dicionario para alterar os valores das colunas questionario_pai e questionario_mae, também melhorará a legibilidade*"
      ]
    },
    {
      "cell_type": "code",
      "metadata": {
        "id": "B8JzeGfV4-aT"
      },
      "source": [
        "questionario = {\n",
        "    'A':'Nunca estudou',\n",
        "    'B':'Não completou a 4ª série/5º ano do Ensino Fundamental.',\n",
        "    'C':'Completou a 4ª série/5º ano, mas não completou a 8ª série/9º ano do Ensino Fundamental.',\n",
        "    'D':'Completou a 8ª série/9º ano do Ensino Fundamental, mas não completou o Ensino Médio.',\n",
        "    'E':'Completou o Ensino Médio, mas não completou a Faculdade.',\n",
        "    'F':'Completou a Faculdade, mas não completou a Pós-graduação.',\n",
        "    'G':'Completou a Pós-graduação.',\n",
        "    'H':'Não sei.',\n",
        "}"
      ],
      "execution_count": null,
      "outputs": []
    },
    {
      "cell_type": "markdown",
      "metadata": {
        "id": "ntf8WesfXuR7"
      },
      "source": [
        "*Iterando sobre a coluna questionario_mae, capturando os valores do dicionario questionario e armazenando na coluna questionario_mae*"
      ]
    },
    {
      "cell_type": "code",
      "metadata": {
        "id": "Ktp0n1EU9RjY"
      },
      "source": [
        "df_enem.questionario_mae = [questionario[resp] for resp in df_enem.questionario_mae]"
      ],
      "execution_count": null,
      "outputs": []
    },
    {
      "cell_type": "markdown",
      "metadata": {
        "id": "sNwqOG9NWhiQ"
      },
      "source": [
        "*Iterando sobre a coluna questionario_pai, capturando os valores do dicionario questionario e armazenando na coluna questionario_pai*"
      ]
    },
    {
      "cell_type": "code",
      "metadata": {
        "id": "U4D7c-mA6HR1"
      },
      "source": [
        "df_enem['questionario_pai'] = [questionario[resp] for resp in df_enem.questionario_pai]"
      ],
      "execution_count": null,
      "outputs": []
    },
    {
      "cell_type": "markdown",
      "metadata": {
        "id": "rpYqaoqm1chI"
      },
      "source": [
        "*Agora temos a seguinte representação*"
      ]
    },
    {
      "cell_type": "code",
      "metadata": {
        "colab": {
          "base_uri": "https://localhost:8080/"
        },
        "id": "1QNt3C2e878C",
        "outputId": "fd303d43-21bb-4742-cd2e-2f5e9877ea0e"
      },
      "source": [
        "df_enem['questionario_mae']"
      ],
      "execution_count": null,
      "outputs": [
        {
          "output_type": "execute_result",
          "data": {
            "text/plain": [
              "0        Completou a 8ª série/9º ano do Ensino Fundamen...\n",
              "1                                            Nunca estudou\n",
              "2        Completou a 8ª série/9º ano do Ensino Fundamen...\n",
              "3        Completou o Ensino Médio, mas não completou a ...\n",
              "4        Completou a 8ª série/9º ano do Ensino Fundamen...\n",
              "                               ...                        \n",
              "13725    Completou o Ensino Médio, mas não completou a ...\n",
              "13726                                        Nunca estudou\n",
              "13727                           Completou a Pós-graduação.\n",
              "13728    Completou a 8ª série/9º ano do Ensino Fundamen...\n",
              "13729    Completou a 8ª série/9º ano do Ensino Fundamen...\n",
              "Name: questionario_mae, Length: 13730, dtype: object"
            ]
          },
          "metadata": {
            "tags": []
          },
          "execution_count": 252
        }
      ]
    },
    {
      "cell_type": "markdown",
      "metadata": {
        "id": "ckV34IpEdXTb"
      },
      "source": [
        "Substituindo todos os valores NaN do dataframe por 0"
      ]
    },
    {
      "cell_type": "code",
      "metadata": {
        "id": "pBlaqG9NSXw6"
      },
      "source": [
        "df_enem.fillna(0, inplace=True)"
      ],
      "execution_count": null,
      "outputs": []
    },
    {
      "cell_type": "code",
      "metadata": {
        "colab": {
          "base_uri": "https://localhost:8080/"
        },
        "id": "6zLzvwO2qFVO",
        "outputId": "bc3229f5-e65c-4d52-f90f-5d4c7651b0de"
      },
      "source": [
        "df_enem.dtypes"
      ],
      "execution_count": null,
      "outputs": [
        {
          "output_type": "execute_result",
          "data": {
            "text/plain": [
              "inscricao                     object\n",
              "ano                            int64\n",
              "municipio_residencia          object\n",
              "uf_residencia                 object\n",
              "idade                          int64\n",
              "sexo                          object\n",
              "estado_civil                  object\n",
              "raca                          object\n",
              "gestante                      object\n",
              "municipio_prova               object\n",
              "uf_prova                      object\n",
              "nota_ciencias_da_naturaza    float64\n",
              "nota_ciencias_humanas        float64\n",
              "nota_linguagens_e_codigos    float64\n",
              "nota_matematica              float64\n",
              "nota_redacao                 float64\n",
              "questionario_pai              object\n",
              "questionario_mae              object\n",
              "dtype: object"
            ]
          },
          "metadata": {
            "tags": []
          },
          "execution_count": 311
        }
      ]
    },
    {
      "cell_type": "markdown",
      "metadata": {
        "id": "FWMVMMxqCFQy"
      },
      "source": [
        "Savando o dataframe já transformado como microdados_enem.csv"
      ]
    },
    {
      "cell_type": "code",
      "metadata": {
        "id": "7mM1-7qa1q1H"
      },
      "source": [
        "df_enem.to_csv('microdados_enem.csv')"
      ],
      "execution_count": null,
      "outputs": []
    },
    {
      "cell_type": "markdown",
      "metadata": {
        "id": "BYPOIgsNCkvb"
      },
      "source": [
        "# A partir de agora será usado pyspark para a manipulação dos dados"
      ]
    },
    {
      "cell_type": "code",
      "metadata": {
        "id": "dTkYpKrDCy73"
      },
      "source": [
        "#pip install spark pyspark"
      ],
      "execution_count": null,
      "outputs": []
    },
    {
      "cell_type": "code",
      "metadata": {
        "id": "nzl8dVO_FrJ2"
      },
      "source": [
        "from pyspark.context import SparkContext\n",
        "from pyspark.sql.session import SparkSession\n",
        "sc = SparkContext('local')\n",
        "spark = SparkSession(sc)"
      ],
      "execution_count": 3,
      "outputs": []
    },
    {
      "cell_type": "code",
      "metadata": {
        "id": "lg_pQz4xLDB_"
      },
      "source": [
        "rdd_enem = spark.read.csv('/content/drive/MyDrive/Datasets/microdados_enem.csv', header=True)"
      ],
      "execution_count": 4,
      "outputs": []
    },
    {
      "cell_type": "code",
      "metadata": {
        "colab": {
          "base_uri": "https://localhost:8080/"
        },
        "id": "lTGlrLj-LKpL",
        "outputId": "56104b69-ff24-43ef-aeaa-09aac421d37a"
      },
      "source": [
        "rdd_enem.show()"
      ],
      "execution_count": 5,
      "outputs": [
        {
          "output_type": "stream",
          "text": [
            "+---+--------------------+----+--------------------+-------------+-----+----+-------------+-------------+--------+--------------------+--------+-------------------------+---------------------+-------------------------+---------------+------------+--------------------+--------------------+\n",
            "|_c0|           inscricao| ano|municipio_residencia|uf_residencia|idade|sexo| estado_civil|         raca|gestante|     municipio_prova|uf_prova|nota_ciencias_da_naturaza|nota_ciencias_humanas|nota_linguagens_e_codigos|nota_matematica|nota_redacao|    questionario_pai|    questionario_mae|\n",
            "+---+--------------------+----+--------------------+-------------+-----+----+-------------+-------------+--------+--------------------+--------+-------------------------+---------------------+-------------------------+---------------+------------+--------------------+--------------------+\n",
            "|  0|ed50e8aaa58e7a806...|2016|        Porto Alegre|           RS|   24|   M|Não informado|       Branca|     Não|        Porto Alegre|      RS|                    436.3|                495.4|                    581.2|          399.4|       520.0|Completou a 8ª sé...|Completou a 8ª sé...|\n",
            "|  1|2c3acac4b33ec2b19...|2016|              Granja|           CE|   17|   F|Não informado|        Parda|     Não|              Granja|      CE|                    474.5|                544.1|                    599.0|          459.8|       580.0|       Nunca estudou|       Nunca estudou|\n",
            "|  2|f4545f8ccb9ff5c8a...|2016|           Fortaleza|           CE|   21|   F|Não informado|        Parda|     Não|           Fortaleza|      CE|                      0.0|                  0.0|                      0.0|            0.0|         0.0|Completou a 8ª sé...|Completou a 8ª sé...|\n",
            "|  3|3d6ec248fef899c41...|2016|      Rio de Janeiro|           RJ|   25|   F|Não informado|Não declarado|     Não|      Rio de Janeiro|      RJ|                      0.0|                  0.0|                      0.0|            0.0|         0.0|            Não sei.|Completou o Ensin...|\n",
            "|  4|bf896ac8d3ecadd6d...|2016|              Manaus|           AM|   28|   M|Não informado|        Preta|     Não|              Manaus|      AM|                      0.0|                  0.0|                      0.0|            0.0|         0.0|Completou o Ensin...|Completou a 8ª sé...|\n",
            "|  5|a37c99ec251d4f6e8...|2016|             Aracatu|           BA|   18|   F|Não informado|       Branca|     Não|             Brumado|      BA|                    439.7|                583.2|                    410.9|          364.5|       620.0|Completou o Ensin...|Completou o Ensin...|\n",
            "|  6|63b4e128e9ffe8ab2...|2016|Campo Novo do Par...|           MT|   18|   F|Não informado|        Parda|     Não|Campo Novo do Par...|      MT|                    420.1|                604.2|                    484.5|          529.2|       560.0|Completou o Ensin...|Completou a 8ª sé...|\n",
            "|  7|2eb189d4912f64b19...|2016|                Bagé|           RS|   18|   F|Não informado|       Branca|     Não|           São Paulo|      SP|                    619.6|                625.8|                    611.2|          566.7|       620.0|Completou a Pós-g...|Completou a Facul...|\n",
            "|  8|5822cb43e0800429b...|2016|            Bezerros|           PE|   16|   F|Não informado|        Parda|     Não|            Bezerros|      PE|                    500.5|                555.2|                    521.8|          372.4|       680.0|            Não sei.|Completou o Ensin...|\n",
            "|  9|94f7e277f87cd58e1...|2016|        Pouso Alegre|           MG|   24|   M|Não informado|      Amarela|     Não|        Pouso Alegre|      MG|                      0.0|                  0.0|                      0.0|            0.0|         0.0|            Não sei.|Completou o Ensin...|\n",
            "| 10|3c44449ad09dc6a72...|2016|              Caetés|           PE|   29|   F|Não informado|        Parda|     Não|              Caetés|      PE|                    413.4|                407.9|                    533.9|          419.6|       520.0|       Nunca estudou|Não completou a 4...|\n",
            "| 11|6f721ecb245bd74ea...|2016|            São Luís|           MA|   17|   F|Não informado|        Parda|     Não|      Paço do Lumiar|      MA|                    503.4|                509.6|                    490.1|          369.9|       580.0|Completou a 8ª sé...|Completou o Ensin...|\n",
            "| 12|70b1dacb515d1aece...|2016|        Porto Alegre|           RS|   27|   M|Não informado|        Parda|     Não|        Porto Alegre|      RS|                    402.6|                556.9|                    599.0|          464.2|       360.0|Não completou a 4...|Completou o Ensin...|\n",
            "| 13|8570b9be0b2b629d0...|2016|           Fortaleza|           CE|   19|   F|Não informado|        Parda|     Não|           Fortaleza|      CE|                      0.0|                  0.0|                      0.0|            0.0|         0.0|Completou a 8ª sé...|Completou a 8ª sé...|\n",
            "| 14|67a173ad63a2a3f77...|2016|    Caiçara do Norte|           RN|   18|   M|Não informado|        Parda|     Não|         João Câmara|      RN|                    477.8|                462.9|                    511.9|          453.4|       360.0|Não completou a 4...|       Nunca estudou|\n",
            "| 15|4e17008781ab3d721...|2016|        Campo Grande|           MS|   18|   F|Não informado|        Parda|     Não|        Campo Grande|      MS|                      0.0|                  0.0|                      0.0|            0.0|         0.0|Completou a 8ª sé...|Completou a 8ª sé...|\n",
            "| 16|6118b53a6c928609d...|2016|   Francisco Beltrão|           PR|   16|   M|Não informado|       Branca|     Não|            Cascavel|      PR|                    561.8|                640.8|                    596.5|          480.4|       720.0|Completou a Facul...|Completou a Pós-g...|\n",
            "| 17|036bce628d802e0da...|2016|             Bacabal|           MA|   24|   F|Não informado|        Preta|     Não|             Bacabal|      MA|                    474.4|                540.0|                    517.4|          402.4|       460.0|       Nunca estudou|       Nunca estudou|\n",
            "| 18|e2550a9dbfe4dfa31...|2016|            Bragança|           PA|   20|   M|Não informado|        Parda|     Não|            Bragança|      PA|                    395.5|                425.2|                    569.5|          475.8|       520.0|Completou a 8ª sé...|Completou a 4ª sé...|\n",
            "| 19|fa8d39d295f07f351...|2016|            Ipatinga|           MG|   21|   F|  Solteiro(a)|        Parda|     Não|            Ipatinga|      MG|                    393.3|                429.6|                      0.0|            0.0|         0.0|Não completou a 4...|Completou a Pós-g...|\n",
            "+---+--------------------+----+--------------------+-------------+-----+----+-------------+-------------+--------+--------------------+--------+-------------------------+---------------------+-------------------------+---------------+------------+--------------------+--------------------+\n",
            "only showing top 20 rows\n",
            "\n"
          ],
          "name": "stdout"
        }
      ]
    },
    {
      "cell_type": "markdown",
      "metadata": {
        "id": "EFRQH5BWiPq3"
      },
      "source": [
        "*Obtendo uma lista com os 10 primeiros registros com a função take*"
      ]
    },
    {
      "cell_type": "code",
      "metadata": {
        "colab": {
          "base_uri": "https://localhost:8080/"
        },
        "id": "gH6-7bZeLXuA",
        "outputId": "d7483724-976b-4918-bc1d-522aa0350fca"
      },
      "source": [
        "rdd_enem.take(10)"
      ],
      "execution_count": 6,
      "outputs": [
        {
          "output_type": "execute_result",
          "data": {
            "text/plain": [
              "[Row(_c0='0', inscricao='ed50e8aaa58e7a806c337585efee9ca41f1eb1ad', ano='2016', municipio_residencia='Porto Alegre', uf_residencia='RS', idade='24', sexo='M', estado_civil='Não informado', raca='Branca', gestante='Não', municipio_prova='Porto Alegre', uf_prova='RS', nota_ciencias_da_naturaza='436.3', nota_ciencias_humanas='495.4', nota_linguagens_e_codigos='581.2', nota_matematica='399.4', nota_redacao='520.0', questionario_pai='Completou a 8ª série/9º ano do Ensino Fundamental, mas não completou o Ensino Médio.', questionario_mae='Completou a 8ª série/9º ano do Ensino Fundamental, mas não completou o Ensino Médio.'),\n",
              " Row(_c0='1', inscricao='2c3acac4b33ec2b195d77e7c04a2d75727fad723', ano='2016', municipio_residencia='Granja', uf_residencia='CE', idade='17', sexo='F', estado_civil='Não informado', raca='Parda', gestante='Não', municipio_prova='Granja', uf_prova='CE', nota_ciencias_da_naturaza='474.5', nota_ciencias_humanas='544.1', nota_linguagens_e_codigos='599.0', nota_matematica='459.8', nota_redacao='580.0', questionario_pai='Nunca estudou', questionario_mae='Nunca estudou'),\n",
              " Row(_c0='2', inscricao='f4545f8ccb9ff5c8aad7d32951b3f251a26e6568', ano='2016', municipio_residencia='Fortaleza', uf_residencia='CE', idade='21', sexo='F', estado_civil='Não informado', raca='Parda', gestante='Não', municipio_prova='Fortaleza', uf_prova='CE', nota_ciencias_da_naturaza='0.0', nota_ciencias_humanas='0.0', nota_linguagens_e_codigos='0.0', nota_matematica='0.0', nota_redacao='0.0', questionario_pai='Completou a 8ª série/9º ano do Ensino Fundamental, mas não completou o Ensino Médio.', questionario_mae='Completou a 8ª série/9º ano do Ensino Fundamental, mas não completou o Ensino Médio.'),\n",
              " Row(_c0='3', inscricao='3d6ec248fef899c414e77f82d5c6d2bffbeaf7fe', ano='2016', municipio_residencia='Rio de Janeiro', uf_residencia='RJ', idade='25', sexo='F', estado_civil='Não informado', raca='Não declarado', gestante='Não', municipio_prova='Rio de Janeiro', uf_prova='RJ', nota_ciencias_da_naturaza='0.0', nota_ciencias_humanas='0.0', nota_linguagens_e_codigos='0.0', nota_matematica='0.0', nota_redacao='0.0', questionario_pai='Não sei.', questionario_mae='Completou o Ensino Médio, mas não completou a Faculdade.'),\n",
              " Row(_c0='4', inscricao='bf896ac8d3ecadd6dba1dfbf50110afcbf5d3268', ano='2016', municipio_residencia='Manaus', uf_residencia='AM', idade='28', sexo='M', estado_civil='Não informado', raca='Preta', gestante='Não', municipio_prova='Manaus', uf_prova='AM', nota_ciencias_da_naturaza='0.0', nota_ciencias_humanas='0.0', nota_linguagens_e_codigos='0.0', nota_matematica='0.0', nota_redacao='0.0', questionario_pai='Completou o Ensino Médio, mas não completou a Faculdade.', questionario_mae='Completou a 8ª série/9º ano do Ensino Fundamental, mas não completou o Ensino Médio.'),\n",
              " Row(_c0='5', inscricao='a37c99ec251d4f6e8ddbeabadf1c87fdbfddc4d1', ano='2016', municipio_residencia='Aracatu', uf_residencia='BA', idade='18', sexo='F', estado_civil='Não informado', raca='Branca', gestante='Não', municipio_prova='Brumado', uf_prova='BA', nota_ciencias_da_naturaza='439.7', nota_ciencias_humanas='583.2', nota_linguagens_e_codigos='410.9', nota_matematica='364.5', nota_redacao='620.0', questionario_pai='Completou o Ensino Médio, mas não completou a Faculdade.', questionario_mae='Completou o Ensino Médio, mas não completou a Faculdade.'),\n",
              " Row(_c0='6', inscricao='63b4e128e9ffe8ab27f5d093db1976ef4f353e0a', ano='2016', municipio_residencia='Campo Novo do Parecis', uf_residencia='MT', idade='18', sexo='F', estado_civil='Não informado', raca='Parda', gestante='Não', municipio_prova='Campo Novo do Parecis', uf_prova='MT', nota_ciencias_da_naturaza='420.1', nota_ciencias_humanas='604.2', nota_linguagens_e_codigos='484.5', nota_matematica='529.2', nota_redacao='560.0', questionario_pai='Completou o Ensino Médio, mas não completou a Faculdade.', questionario_mae='Completou a 8ª série/9º ano do Ensino Fundamental, mas não completou o Ensino Médio.'),\n",
              " Row(_c0='7', inscricao='2eb189d4912f64b19d1967e8e84b6141aba18770', ano='2016', municipio_residencia='Bagé', uf_residencia='RS', idade='18', sexo='F', estado_civil='Não informado', raca='Branca', gestante='Não', municipio_prova='São Paulo', uf_prova='SP', nota_ciencias_da_naturaza='619.6', nota_ciencias_humanas='625.8', nota_linguagens_e_codigos='611.2', nota_matematica='566.7', nota_redacao='620.0', questionario_pai='Completou a Pós-graduação.', questionario_mae='Completou a Faculdade, mas não completou a Pós-graduação.'),\n",
              " Row(_c0='8', inscricao='5822cb43e0800429be2084b3f86a63aaa73fa66c', ano='2016', municipio_residencia='Bezerros', uf_residencia='PE', idade='16', sexo='F', estado_civil='Não informado', raca='Parda', gestante='Não', municipio_prova='Bezerros', uf_prova='PE', nota_ciencias_da_naturaza='500.5', nota_ciencias_humanas='555.2', nota_linguagens_e_codigos='521.8', nota_matematica='372.4', nota_redacao='680.0', questionario_pai='Não sei.', questionario_mae='Completou o Ensino Médio, mas não completou a Faculdade.'),\n",
              " Row(_c0='9', inscricao='94f7e277f87cd58e10a45da4ad5dd168651cf3ef', ano='2016', municipio_residencia='Pouso Alegre', uf_residencia='MG', idade='24', sexo='M', estado_civil='Não informado', raca='Amarela', gestante='Não', municipio_prova='Pouso Alegre', uf_prova='MG', nota_ciencias_da_naturaza='0.0', nota_ciencias_humanas='0.0', nota_linguagens_e_codigos='0.0', nota_matematica='0.0', nota_redacao='0.0', questionario_pai='Não sei.', questionario_mae='Completou o Ensino Médio, mas não completou a Faculdade.')]"
            ]
          },
          "metadata": {
            "tags": []
          },
          "execution_count": 6
        }
      ]
    },
    {
      "cell_type": "markdown",
      "metadata": {
        "id": "f770jmwHi2ml"
      },
      "source": [
        "*Visualizando as colunas e o tipo da coluna*"
      ]
    },
    {
      "cell_type": "code",
      "metadata": {
        "colab": {
          "base_uri": "https://localhost:8080/"
        },
        "id": "FXdahWT0iaUQ",
        "outputId": "046edffc-9c39-4eaf-b222-921c6a696365"
      },
      "source": [
        "rdd_enem.printSchema()"
      ],
      "execution_count": 7,
      "outputs": [
        {
          "output_type": "stream",
          "text": [
            "root\n",
            " |-- _c0: string (nullable = true)\n",
            " |-- inscricao: string (nullable = true)\n",
            " |-- ano: string (nullable = true)\n",
            " |-- municipio_residencia: string (nullable = true)\n",
            " |-- uf_residencia: string (nullable = true)\n",
            " |-- idade: string (nullable = true)\n",
            " |-- sexo: string (nullable = true)\n",
            " |-- estado_civil: string (nullable = true)\n",
            " |-- raca: string (nullable = true)\n",
            " |-- gestante: string (nullable = true)\n",
            " |-- municipio_prova: string (nullable = true)\n",
            " |-- uf_prova: string (nullable = true)\n",
            " |-- nota_ciencias_da_naturaza: string (nullable = true)\n",
            " |-- nota_ciencias_humanas: string (nullable = true)\n",
            " |-- nota_linguagens_e_codigos: string (nullable = true)\n",
            " |-- nota_matematica: string (nullable = true)\n",
            " |-- nota_redacao: string (nullable = true)\n",
            " |-- questionario_pai: string (nullable = true)\n",
            " |-- questionario_mae: string (nullable = true)\n",
            "\n"
          ],
          "name": "stdout"
        }
      ]
    },
    {
      "cell_type": "markdown",
      "metadata": {
        "id": "dmqQTRUzcciw"
      },
      "source": [
        "*Selecionando uma coluna específica*"
      ]
    },
    {
      "cell_type": "code",
      "metadata": {
        "colab": {
          "base_uri": "https://localhost:8080/"
        },
        "id": "jxLpoOOwi_wv",
        "outputId": "d37e5db3-7902-466b-a203-f5acefd605b9"
      },
      "source": [
        "rdd_enem.select('municipio_residencia').show()"
      ],
      "execution_count": 8,
      "outputs": [
        {
          "output_type": "stream",
          "text": [
            "+--------------------+\n",
            "|municipio_residencia|\n",
            "+--------------------+\n",
            "|        Porto Alegre|\n",
            "|              Granja|\n",
            "|           Fortaleza|\n",
            "|      Rio de Janeiro|\n",
            "|              Manaus|\n",
            "|             Aracatu|\n",
            "|Campo Novo do Par...|\n",
            "|                Bagé|\n",
            "|            Bezerros|\n",
            "|        Pouso Alegre|\n",
            "|              Caetés|\n",
            "|            São Luís|\n",
            "|        Porto Alegre|\n",
            "|           Fortaleza|\n",
            "|    Caiçara do Norte|\n",
            "|        Campo Grande|\n",
            "|   Francisco Beltrão|\n",
            "|             Bacabal|\n",
            "|            Bragança|\n",
            "|            Ipatinga|\n",
            "+--------------------+\n",
            "only showing top 20 rows\n",
            "\n"
          ],
          "name": "stdout"
        }
      ]
    },
    {
      "cell_type": "markdown",
      "metadata": {
        "id": "zttoFBBJn8nJ"
      },
      "source": [
        "*Quantidade de município onde as provas foram realizadas*"
      ]
    },
    {
      "cell_type": "code",
      "metadata": {
        "colab": {
          "base_uri": "https://localhost:8080/"
        },
        "id": "7Ip4gJjEkg4o",
        "outputId": "c4a00bd9-f40d-407b-f5d0-c32d2cf71a86"
      },
      "source": [
        "rdd_enem.select('municipio_prova').distinct().count()"
      ],
      "execution_count": 9,
      "outputs": [
        {
          "output_type": "execute_result",
          "data": {
            "text/plain": [
              "1489"
            ]
          },
          "metadata": {
            "tags": []
          },
          "execution_count": 9
        }
      ]
    },
    {
      "cell_type": "markdown",
      "metadata": {
        "id": "fHSpI-CHtS9b"
      },
      "source": [
        "*Criando uma tabela temporária para manipulação dos dados*"
      ]
    },
    {
      "cell_type": "code",
      "metadata": {
        "colab": {
          "base_uri": "https://localhost:8080/"
        },
        "id": "iy54xSrzsNTf",
        "outputId": "b8a08391-8d0c-4847-9388-1e594265ec62"
      },
      "source": [
        "rdd_enem.createOrReplaceTempView('temp_microdados_enem')\n",
        "spark.read.table(\"temp_microdados_enem\").show()"
      ],
      "execution_count": 10,
      "outputs": [
        {
          "output_type": "stream",
          "text": [
            "+---+--------------------+----+--------------------+-------------+-----+----+-------------+-------------+--------+--------------------+--------+-------------------------+---------------------+-------------------------+---------------+------------+--------------------+--------------------+\n",
            "|_c0|           inscricao| ano|municipio_residencia|uf_residencia|idade|sexo| estado_civil|         raca|gestante|     municipio_prova|uf_prova|nota_ciencias_da_naturaza|nota_ciencias_humanas|nota_linguagens_e_codigos|nota_matematica|nota_redacao|    questionario_pai|    questionario_mae|\n",
            "+---+--------------------+----+--------------------+-------------+-----+----+-------------+-------------+--------+--------------------+--------+-------------------------+---------------------+-------------------------+---------------+------------+--------------------+--------------------+\n",
            "|  0|ed50e8aaa58e7a806...|2016|        Porto Alegre|           RS|   24|   M|Não informado|       Branca|     Não|        Porto Alegre|      RS|                    436.3|                495.4|                    581.2|          399.4|       520.0|Completou a 8ª sé...|Completou a 8ª sé...|\n",
            "|  1|2c3acac4b33ec2b19...|2016|              Granja|           CE|   17|   F|Não informado|        Parda|     Não|              Granja|      CE|                    474.5|                544.1|                    599.0|          459.8|       580.0|       Nunca estudou|       Nunca estudou|\n",
            "|  2|f4545f8ccb9ff5c8a...|2016|           Fortaleza|           CE|   21|   F|Não informado|        Parda|     Não|           Fortaleza|      CE|                      0.0|                  0.0|                      0.0|            0.0|         0.0|Completou a 8ª sé...|Completou a 8ª sé...|\n",
            "|  3|3d6ec248fef899c41...|2016|      Rio de Janeiro|           RJ|   25|   F|Não informado|Não declarado|     Não|      Rio de Janeiro|      RJ|                      0.0|                  0.0|                      0.0|            0.0|         0.0|            Não sei.|Completou o Ensin...|\n",
            "|  4|bf896ac8d3ecadd6d...|2016|              Manaus|           AM|   28|   M|Não informado|        Preta|     Não|              Manaus|      AM|                      0.0|                  0.0|                      0.0|            0.0|         0.0|Completou o Ensin...|Completou a 8ª sé...|\n",
            "|  5|a37c99ec251d4f6e8...|2016|             Aracatu|           BA|   18|   F|Não informado|       Branca|     Não|             Brumado|      BA|                    439.7|                583.2|                    410.9|          364.5|       620.0|Completou o Ensin...|Completou o Ensin...|\n",
            "|  6|63b4e128e9ffe8ab2...|2016|Campo Novo do Par...|           MT|   18|   F|Não informado|        Parda|     Não|Campo Novo do Par...|      MT|                    420.1|                604.2|                    484.5|          529.2|       560.0|Completou o Ensin...|Completou a 8ª sé...|\n",
            "|  7|2eb189d4912f64b19...|2016|                Bagé|           RS|   18|   F|Não informado|       Branca|     Não|           São Paulo|      SP|                    619.6|                625.8|                    611.2|          566.7|       620.0|Completou a Pós-g...|Completou a Facul...|\n",
            "|  8|5822cb43e0800429b...|2016|            Bezerros|           PE|   16|   F|Não informado|        Parda|     Não|            Bezerros|      PE|                    500.5|                555.2|                    521.8|          372.4|       680.0|            Não sei.|Completou o Ensin...|\n",
            "|  9|94f7e277f87cd58e1...|2016|        Pouso Alegre|           MG|   24|   M|Não informado|      Amarela|     Não|        Pouso Alegre|      MG|                      0.0|                  0.0|                      0.0|            0.0|         0.0|            Não sei.|Completou o Ensin...|\n",
            "| 10|3c44449ad09dc6a72...|2016|              Caetés|           PE|   29|   F|Não informado|        Parda|     Não|              Caetés|      PE|                    413.4|                407.9|                    533.9|          419.6|       520.0|       Nunca estudou|Não completou a 4...|\n",
            "| 11|6f721ecb245bd74ea...|2016|            São Luís|           MA|   17|   F|Não informado|        Parda|     Não|      Paço do Lumiar|      MA|                    503.4|                509.6|                    490.1|          369.9|       580.0|Completou a 8ª sé...|Completou o Ensin...|\n",
            "| 12|70b1dacb515d1aece...|2016|        Porto Alegre|           RS|   27|   M|Não informado|        Parda|     Não|        Porto Alegre|      RS|                    402.6|                556.9|                    599.0|          464.2|       360.0|Não completou a 4...|Completou o Ensin...|\n",
            "| 13|8570b9be0b2b629d0...|2016|           Fortaleza|           CE|   19|   F|Não informado|        Parda|     Não|           Fortaleza|      CE|                      0.0|                  0.0|                      0.0|            0.0|         0.0|Completou a 8ª sé...|Completou a 8ª sé...|\n",
            "| 14|67a173ad63a2a3f77...|2016|    Caiçara do Norte|           RN|   18|   M|Não informado|        Parda|     Não|         João Câmara|      RN|                    477.8|                462.9|                    511.9|          453.4|       360.0|Não completou a 4...|       Nunca estudou|\n",
            "| 15|4e17008781ab3d721...|2016|        Campo Grande|           MS|   18|   F|Não informado|        Parda|     Não|        Campo Grande|      MS|                      0.0|                  0.0|                      0.0|            0.0|         0.0|Completou a 8ª sé...|Completou a 8ª sé...|\n",
            "| 16|6118b53a6c928609d...|2016|   Francisco Beltrão|           PR|   16|   M|Não informado|       Branca|     Não|            Cascavel|      PR|                    561.8|                640.8|                    596.5|          480.4|       720.0|Completou a Facul...|Completou a Pós-g...|\n",
            "| 17|036bce628d802e0da...|2016|             Bacabal|           MA|   24|   F|Não informado|        Preta|     Não|             Bacabal|      MA|                    474.4|                540.0|                    517.4|          402.4|       460.0|       Nunca estudou|       Nunca estudou|\n",
            "| 18|e2550a9dbfe4dfa31...|2016|            Bragança|           PA|   20|   M|Não informado|        Parda|     Não|            Bragança|      PA|                    395.5|                425.2|                    569.5|          475.8|       520.0|Completou a 8ª sé...|Completou a 4ª sé...|\n",
            "| 19|fa8d39d295f07f351...|2016|            Ipatinga|           MG|   21|   F|  Solteiro(a)|        Parda|     Não|            Ipatinga|      MG|                    393.3|                429.6|                      0.0|            0.0|         0.0|Não completou a 4...|Completou a Pós-g...|\n",
            "+---+--------------------+----+--------------------+-------------+-----+----+-------------+-------------+--------+--------------------+--------+-------------------------+---------------------+-------------------------+---------------+------------+--------------------+--------------------+\n",
            "only showing top 20 rows\n",
            "\n"
          ],
          "name": "stdout"
        }
      ]
    },
    {
      "cell_type": "markdown",
      "metadata": {
        "id": "R49N0YBbwp9e"
      },
      "source": [
        "*Analizando os alunos pela inscricao e suas respectivas notas*"
      ]
    },
    {
      "cell_type": "code",
      "metadata": {
        "colab": {
          "base_uri": "https://localhost:8080/"
        },
        "id": "JIshnWULtc-5",
        "outputId": "076c5044-12d7-4a12-d65b-1196211c399e"
      },
      "source": [
        "nota_alunos = spark.sql('SELECT inscricao, nota_ciencias_da_naturaza, nota_ciencias_humanas, nota_linguagens_e_codigos, nota_matematica, nota_redacao FROM temp_microdados_enem').show()"
      ],
      "execution_count": 11,
      "outputs": [
        {
          "output_type": "stream",
          "text": [
            "+--------------------+-------------------------+---------------------+-------------------------+---------------+------------+\n",
            "|           inscricao|nota_ciencias_da_naturaza|nota_ciencias_humanas|nota_linguagens_e_codigos|nota_matematica|nota_redacao|\n",
            "+--------------------+-------------------------+---------------------+-------------------------+---------------+------------+\n",
            "|ed50e8aaa58e7a806...|                    436.3|                495.4|                    581.2|          399.4|       520.0|\n",
            "|2c3acac4b33ec2b19...|                    474.5|                544.1|                    599.0|          459.8|       580.0|\n",
            "|f4545f8ccb9ff5c8a...|                      0.0|                  0.0|                      0.0|            0.0|         0.0|\n",
            "|3d6ec248fef899c41...|                      0.0|                  0.0|                      0.0|            0.0|         0.0|\n",
            "|bf896ac8d3ecadd6d...|                      0.0|                  0.0|                      0.0|            0.0|         0.0|\n",
            "|a37c99ec251d4f6e8...|                    439.7|                583.2|                    410.9|          364.5|       620.0|\n",
            "|63b4e128e9ffe8ab2...|                    420.1|                604.2|                    484.5|          529.2|       560.0|\n",
            "|2eb189d4912f64b19...|                    619.6|                625.8|                    611.2|          566.7|       620.0|\n",
            "|5822cb43e0800429b...|                    500.5|                555.2|                    521.8|          372.4|       680.0|\n",
            "|94f7e277f87cd58e1...|                      0.0|                  0.0|                      0.0|            0.0|         0.0|\n",
            "|3c44449ad09dc6a72...|                    413.4|                407.9|                    533.9|          419.6|       520.0|\n",
            "|6f721ecb245bd74ea...|                    503.4|                509.6|                    490.1|          369.9|       580.0|\n",
            "|70b1dacb515d1aece...|                    402.6|                556.9|                    599.0|          464.2|       360.0|\n",
            "|8570b9be0b2b629d0...|                      0.0|                  0.0|                      0.0|            0.0|         0.0|\n",
            "|67a173ad63a2a3f77...|                    477.8|                462.9|                    511.9|          453.4|       360.0|\n",
            "|4e17008781ab3d721...|                      0.0|                  0.0|                      0.0|            0.0|         0.0|\n",
            "|6118b53a6c928609d...|                    561.8|                640.8|                    596.5|          480.4|       720.0|\n",
            "|036bce628d802e0da...|                    474.4|                540.0|                    517.4|          402.4|       460.0|\n",
            "|e2550a9dbfe4dfa31...|                    395.5|                425.2|                    569.5|          475.8|       520.0|\n",
            "|fa8d39d295f07f351...|                    393.3|                429.6|                      0.0|            0.0|         0.0|\n",
            "+--------------------+-------------------------+---------------------+-------------------------+---------------+------------+\n",
            "only showing top 20 rows\n",
            "\n"
          ],
          "name": "stdout"
        }
      ]
    },
    {
      "cell_type": "markdown",
      "metadata": {
        "id": "4W_R3qc8yTsY"
      },
      "source": [
        "*Obtendo todos os candidatos, pela inscrição, que obtiveram nota maior que 900 na redação*"
      ]
    },
    {
      "cell_type": "code",
      "metadata": {
        "colab": {
          "base_uri": "https://localhost:8080/"
        },
        "id": "yYzP17Auwyz5",
        "outputId": "0b9e79ba-2157-4e77-a36b-6933e49ecf77"
      },
      "source": [
        "spark.sql('SELECT inscricao, nota_redacao FROM temp_microdados_enem WHERE nota_redacao > 900').show()"
      ],
      "execution_count": null,
      "outputs": [
        {
          "output_type": "stream",
          "text": [
            "+--------------------+------------+\n",
            "|           inscricao|nota_redacao|\n",
            "+--------------------+------------+\n",
            "|9ff200dba2915df2a...|       940.0|\n",
            "|fd01057f860dd5014...|       940.0|\n",
            "|d17a817abbd7212c5...|       940.0|\n",
            "|4c29d5913f759e503...|       960.0|\n",
            "|9465419acaa4e0327...|       920.0|\n",
            "|41489fd85a5d0cb6e...|       920.0|\n",
            "|b413685f47b788685...|       920.0|\n",
            "|6060a50502881ecb6...|       920.0|\n",
            "|f6571d4e67022ab56...|       940.0|\n",
            "|8609d64c783ff46d2...|       960.0|\n",
            "|e3619c5c3046426da...|       920.0|\n",
            "|3fa935df2cd2998f0...|       920.0|\n",
            "|c29f7a179a5b14fad...|       920.0|\n",
            "|dfd9f4c775140f35e...|       960.0|\n",
            "|89a60686cb361eaeb...|       940.0|\n",
            "|2eba8bf1425e5f55e...|       920.0|\n",
            "|ad4b00a1e0350477a...|       920.0|\n",
            "|be86d87fbe8b8ddc7...|       960.0|\n",
            "|3c03dcae011410e82...|       920.0|\n",
            "|24764fc0b7b5f2f62...|       960.0|\n",
            "+--------------------+------------+\n",
            "only showing top 20 rows\n",
            "\n"
          ],
          "name": "stdout"
        }
      ]
    },
    {
      "cell_type": "code",
      "metadata": {
        "colab": {
          "base_uri": "https://localhost:8080/"
        },
        "id": "qWmK6yQGjhkc",
        "outputId": "a8e209ae-2b2f-485f-83d3-829a23a91a70"
      },
      "source": [
        "spark.sql('SELECT inscricao, municipio_residencia, MAX(nota_linguagens_e_codigos) nota_linguagens_e_codigos FROM temp_microdados_enem GROUP BY inscricao, municipio_residencia').show()"
      ],
      "execution_count": null,
      "outputs": [
        {
          "output_type": "stream",
          "text": [
            "+--------------------+--------------------+-------------------------+\n",
            "|           inscricao|municipio_residencia|nota_linguagens_e_codigos|\n",
            "+--------------------+--------------------+-------------------------+\n",
            "|01522361b60a10655...|               Soure|                    509.6|\n",
            "|093b76cdac817892e...|               Goiás|                    514.1|\n",
            "|0bed5ea80bf6e886e...|          Parnamirim|                      0.0|\n",
            "|10771e954aa01c4b8...|          Camaragibe|                    546.4|\n",
            "|11615e19c7ceae953...|           Itapipoca|                    450.9|\n",
            "|1598153cbceba1f24...|              Tururu|                    538.3|\n",
            "|169baa737313f0938...|São Lourenço da Mata|                    442.3|\n",
            "|16cf59ae6af1380cd...|              Cuiabá|                      0.0|\n",
            "|185539e2dcb77f676...|              Manaus|                      0.0|\n",
            "|1855863f45d635a31...|               Bauru|                    606.9|\n",
            "|1b829c4c27d91992d...|Santa Tereza de G...|                    579.8|\n",
            "|1d1d6e120919ee2fd...|           Castanhal|                      0.0|\n",
            "|20e5f906f018295f6...|            Brasília|                    629.4|\n",
            "|23c0f070d1396934f...|    Pontes e Lacerda|                    478.9|\n",
            "|24d174ec63e0051b5...|             Itapevi|                      0.0|\n",
            "|30c520d09cb385bab...|             Marília|                    582.5|\n",
            "|31f6aef806892a4fa...|            Alvorada|                    474.5|\n",
            "|3a189f1bb2c6215dc...|         João Pessoa|                      0.0|\n",
            "|3ea006af7d4b23553...|            São Luís|                    530.8|\n",
            "|43a8afeebbcb49c14...|            Milagres|                    438.5|\n",
            "+--------------------+--------------------+-------------------------+\n",
            "only showing top 20 rows\n",
            "\n"
          ],
          "name": "stdout"
        }
      ]
    },
    {
      "cell_type": "markdown",
      "metadata": {
        "id": "J9YDIvTtfdjj"
      },
      "source": [
        "*Obtendo a quantidade de inscrito por cidade de cada estado ordenado pela maio quantidade de inscritos para a menor.*"
      ]
    },
    {
      "cell_type": "code",
      "metadata": {
        "colab": {
          "base_uri": "https://localhost:8080/"
        },
        "id": "R3ONnqLglY97",
        "outputId": "8f42080a-0160-42b4-9f67-139c93f5f9b0"
      },
      "source": [
        "spark.sql('SELECT municipio_residencia, uf_residencia, COUNT(inscricao) FROM temp_microdados_enem GROUP BY municipio_residencia, uf_residencia ORDER BY COUNT(inscricao) DESC').show()"
      ],
      "execution_count": 52,
      "outputs": [
        {
          "output_type": "stream",
          "text": [
            "+--------------------+-------------+----------------+\n",
            "|municipio_residencia|uf_residencia|count(inscricao)|\n",
            "+--------------------+-------------+----------------+\n",
            "|           São Paulo|           SP|             565|\n",
            "|           Fortaleza|           CE|             378|\n",
            "|      Rio de Janeiro|           RJ|             324|\n",
            "|            Brasília|           DF|             232|\n",
            "|            Salvador|           BA|             213|\n",
            "|              Manaus|           AM|             210|\n",
            "|            São Luís|           MA|             194|\n",
            "|      Belo Horizonte|           MG|             170|\n",
            "|               Belém|           PA|             165|\n",
            "|             Goiânia|           GO|             145|\n",
            "|            Curitiba|           PR|             115|\n",
            "|            Teresina|           PI|             109|\n",
            "|              Recife|           PE|             103|\n",
            "|        Campo Grande|           MS|              89|\n",
            "|         João Pessoa|           PB|              78|\n",
            "|        Porto Alegre|           RS|              71|\n",
            "|              Maceió|           AL|              68|\n",
            "|              Cuiabá|           MT|              67|\n",
            "|   Juazeiro do Norte|           CE|              65|\n",
            "|              Palmas|           TO|              56|\n",
            "+--------------------+-------------+----------------+\n",
            "only showing top 20 rows\n",
            "\n"
          ],
          "name": "stdout"
        }
      ]
    },
    {
      "cell_type": "markdown",
      "metadata": {
        "id": "cX9XY0jzezsB"
      },
      "source": [
        "*Obtendo a quantidade de inscritos no estado de Tocantins.*"
      ]
    },
    {
      "cell_type": "code",
      "metadata": {
        "colab": {
          "base_uri": "https://localhost:8080/"
        },
        "id": "qOuyEd7EebJm",
        "outputId": "b0a063cc-fcb3-4ae3-ba58-cc0324788a9b"
      },
      "source": [
        "spark.sql('SELECT count(inscricao) FROM temp_microdados_enem WHERE uf_residencia = \"TO\"').show()"
      ],
      "execution_count": 51,
      "outputs": [
        {
          "output_type": "stream",
          "text": [
            "+----------------+\n",
            "|count(inscricao)|\n",
            "+----------------+\n",
            "|             167|\n",
            "+----------------+\n",
            "\n"
          ],
          "name": "stdout"
        }
      ]
    },
    {
      "cell_type": "markdown",
      "metadata": {
        "id": "PoPPODc0aDq4"
      },
      "source": [
        "*Obtendo as maiores notas em nota_linguagens_e_codigos de cada cidade do estado de RJ.*"
      ]
    },
    {
      "cell_type": "code",
      "metadata": {
        "colab": {
          "base_uri": "https://localhost:8080/"
        },
        "id": "qiY44qiLY-cY",
        "outputId": "41c8fe40-485f-455f-b3b7-2a8ace49a968"
      },
      "source": [
        "spark.sql('SELECT uf_residencia, municipio_residencia, MAX(nota_linguagens_e_codigos) nota_linguagens_e_codigos FROM temp_microdados_enem WHERE uf_residencia = \"RJ\" GROUP BY uf_residencia, municipio_residencia').show()"
      ],
      "execution_count": 27,
      "outputs": [
        {
          "output_type": "stream",
          "text": [
            "+-------------+--------------------+-------------------------+\n",
            "|uf_residencia|municipio_residencia|nota_linguagens_e_codigos|\n",
            "+-------------+--------------------+-------------------------+\n",
            "|           RJ|            Quissamã|                    515.0|\n",
            "|           RJ|         Teresópolis|                    656.3|\n",
            "|           RJ|           Paracambi|                    589.3|\n",
            "|           RJ|           Três Rios|                    564.7|\n",
            "|           RJ|             Itaguaí|                    595.6|\n",
            "|           RJ|             Niterói|                    655.4|\n",
            "|           RJ|      Rio de Janeiro|                    731.2|\n",
            "|           RJ|     Paty do Alferes|                    526.4|\n",
            "|           RJ|     Arraial do Cabo|                      0.0|\n",
            "|           RJ| São Pedro da Aldeia|                    633.7|\n",
            "|           RJ|   Casimiro de Abreu|                      0.0|\n",
            "|           RJ|          Rio Bonito|                    495.3|\n",
            "|           RJ|        Belford Roxo|                    633.9|\n",
            "|           RJ|         Duas Barras|                    494.6|\n",
            "|           RJ|     Duque de Caxias|                    618.3|\n",
            "|           RJ|           Nilópolis|                    593.7|\n",
            "|           RJ|Santo Antônio de ...|                    589.5|\n",
            "|           RJ|           Sumidouro|                    529.5|\n",
            "|           RJ|            Sapucaia|                    525.6|\n",
            "|           RJ|              Paraty|                    576.9|\n",
            "+-------------+--------------------+-------------------------+\n",
            "only showing top 20 rows\n",
            "\n"
          ],
          "name": "stdout"
        }
      ]
    },
    {
      "cell_type": "code",
      "metadata": {
        "colab": {
          "base_uri": "https://localhost:8080/"
        },
        "id": "qmraaIAEarCg",
        "outputId": "26b82423-3547-4d26-c7b9-475415e70d4a"
      },
      "source": [
        "spark.sql('SELECT uf_residencia, municipio_residencia, max(nota_matematica) FROM temp_microdados_enem WHERE uf_residencia = \"CE\" GROUP BY uf_residencia, municipio_residencia').show()"
      ],
      "execution_count": 56,
      "outputs": [
        {
          "output_type": "stream",
          "text": [
            "+-------------+--------------------+--------------------+\n",
            "|uf_residencia|municipio_residencia|max(nota_matematica)|\n",
            "+-------------+--------------------+--------------------+\n",
            "|           CE|              Iguatu|               549.1|\n",
            "|           CE|           Ibaretama|               610.9|\n",
            "|           CE|           Itaitinga|               628.5|\n",
            "|           CE|      Pires Ferreira|               649.0|\n",
            "|           CE|           Altaneira|               485.1|\n",
            "|           CE|             Ubajara|               632.1|\n",
            "|           CE|         Barroquinha|               547.2|\n",
            "|           CE|               Ocara|               576.2|\n",
            "|           CE|            Itapiúna|               461.3|\n",
            "|           CE|               Jucás|               528.5|\n",
            "|           CE|             Araripe|               422.9|\n",
            "|           CE|     Viçosa do Ceará|               597.6|\n",
            "|           CE|             Aratuba|               425.7|\n",
            "|           CE|              Fortim|               521.0|\n",
            "|           CE|         Morada Nova|               644.9|\n",
            "|           CE|            Cascavel|               800.1|\n",
            "|           CE|             Eusébio|               626.1|\n",
            "|           CE|           Fortaleza|               865.5|\n",
            "|           CE|São Gonçalo do Am...|               518.5|\n",
            "|           CE|           Bela Cruz|               572.9|\n",
            "+-------------+--------------------+--------------------+\n",
            "only showing top 20 rows\n",
            "\n"
          ],
          "name": "stdout"
        }
      ]
    },
    {
      "cell_type": "markdown",
      "metadata": {
        "id": "4FkwRQRviIlM"
      },
      "source": [
        "*Como podemos ver, a maior nota de matemática é do candidato que reside em Fortaleza.*"
      ]
    },
    {
      "cell_type": "code",
      "metadata": {
        "colab": {
          "base_uri": "https://localhost:8080/"
        },
        "id": "0_hAuXfngBn4",
        "outputId": "8e16ba5f-8e5a-4cd5-ef63-b7d24f097063"
      },
      "source": [
        "spark.sql('SELECT max(nota_matematica) FROM temp_microdados_enem WHERE uf_residencia = \"CE\" ').show()"
      ],
      "execution_count": 61,
      "outputs": [
        {
          "output_type": "stream",
          "text": [
            "+--------------------+\n",
            "|max(nota_matematica)|\n",
            "+--------------------+\n",
            "|               865.5|\n",
            "+--------------------+\n",
            "\n"
          ],
          "name": "stdout"
        }
      ]
    }
  ]
}